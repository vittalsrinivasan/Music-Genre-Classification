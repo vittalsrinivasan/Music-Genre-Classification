{
  "nbformat": 4,
  "nbformat_minor": 0,
  "metadata": {
    "colab": {
      "name": "Feature Extraction.ipynb",
      "provenance": []
    },
    "kernelspec": {
      "name": "python3",
      "display_name": "Python 3"
    }
  },
  "cells": [
    {
      "cell_type": "code",
      "metadata": {
        "id": "Ci_3x7G8LsiE"
      },
      "source": [
        "from google.colab import drive\n",
        "drive.mount('/content/drive')\n",
        "root_path = 'drive/My Drive/'\n"
      ],
      "execution_count": null,
      "outputs": []
    },
    {
      "cell_type": "code",
      "metadata": {
        "id": "D-2ccVlYLt8I"
      },
      "source": [
        "!pip install Signal_Analysis"
      ],
      "execution_count": null,
      "outputs": []
    },
    {
      "cell_type": "code",
      "metadata": {
        "id": "YDyWCqWwLwCi"
      },
      "source": [
        "!pip install soundfile"
      ],
      "execution_count": null,
      "outputs": []
    },
    {
      "cell_type": "code",
      "metadata": {
        "id": "HyvVvNp_L9jS"
      },
      "source": [
        "!pip install python_speech_features"
      ],
      "execution_count": null,
      "outputs": []
    },
    {
      "cell_type": "code",
      "metadata": {
        "id": "vsA7QaQQMAfH"
      },
      "source": [
        "!unzip \"/content/drive/My Drive/archive.zip\""
      ],
      "execution_count": null,
      "outputs": []
    },
    {
      "cell_type": "code",
      "metadata": {
        "id": "ijdDwTXAMDFm"
      },
      "source": [
        "import math\n",
        "import Signal_Analysis\n",
        "from Signal_Analysis import features\n",
        "from Signal_Analysis.features import signal\n",
        "import numpy as np\n",
        "import scipy.io.wavfile as wavfile\n",
        "import librosa\n",
        "import soundfile as sf\n",
        "import warnings\n",
        "warnings.filterwarnings(\"ignore\")\n",
        "import pickle \n",
        "import os,sys\n",
        "import sklearn.mixture\n",
        "from sklearn import preprocessing\n",
        "import python_speech_features as mfcc\n",
        "import scipy\n",
        "from sklearn.model_selection import train_test_split\n",
        "from scipy.fftpack import dct"
      ],
      "execution_count": null,
      "outputs": []
    },
    {
      "cell_type": "code",
      "metadata": {
        "id": "7BFsNCGhMFal"
      },
      "source": [
        "def extract_mfcc(audio,sr):\n",
        "    mfcc_feature = preprocessing.normalize(mfcc.mfcc(audio,rate, 0.025, 0.01,20,nfft = 1200, appendEnergy = True))    \n",
        "    mfcc_feature=np.mean(mfcc_feature,axis=0)\n",
        "    return mfcc_feature\n",
        "  \n",
        "  \n",
        "def extract_spec_cent(audio,sr):\n",
        "  a=np.mean(librosa.feature.spectral_centroid(audio,sr))\n",
        "  return np.array([a*2/sr])\n",
        "                                                            \n",
        "def extract_flatness(audio,sr):       #returns value in [0,1] per frame\n",
        "    return np.array([np.mean(librosa.feature.spectral_flatness(audio))])\n",
        "  \n",
        "  \n",
        "def extract_srolloff(audio,sr):   #returns per frame in Hz\n",
        "    return np.array([np.mean(librosa.feature.spectral_rolloff(audio,sr))])\n",
        "  \n",
        "\n",
        "def extract_zcr(audio,sr):\n",
        "  return np.array([np.mean(librosa.feature.zero_crossing_rate(audio))])\n",
        "\n",
        "def extract_chroma(audio,sr):\n",
        "  chroma =np.mean(np.transpose(preprocessing.normalize(librosa.feature.chroma_stft(audio,sr))),axis = 0)\n",
        "  return chroma\n"
      ],
      "execution_count": null,
      "outputs": []
    },
    {
      "cell_type": "code",
      "metadata": {
        "id": "-qqsR9iBMH8b"
      },
      "source": [
        "path = 'Data/genres_original'\n",
        "os.listdir(path)"
      ],
      "execution_count": null,
      "outputs": []
    },
    {
      "cell_type": "code",
      "metadata": {
        "id": "HLukktDhMLQ9"
      },
      "source": [
        "genres = os.listdir(path)\n",
        "labels = []\n",
        "features = []\n",
        "count = 0\n",
        "a = {}\n",
        "\n",
        "for i in genres:\n",
        "  g = np.asarray(count)\n",
        "  a[count] = i\n",
        "\n",
        "  for j in os.listdir(path+'/'+i):\n",
        "    if (j!='.ipynb_checkpoints' and j!='jazz.00054.wav'):\n",
        "      audio,sr = sf.read(path+'/'+i+'/'+j)  \n",
        "      \n",
        "      aud=librosa.util.normalize(audio)\n",
        "      l1=[]\n",
        "      l1=extract_mfcc(aud,sr).tolist()        \n",
        "      l1.extend(extract_spec_cent(aud,sr).tolist())\n",
        "      l1.extend(extract_srolloff(aud,sr).tolist())\n",
        "      l1.extend(extract_chroma(aud,sr).tolist())\n",
        "      l1.extend(extract_flatness(aud,sr).tolist())\n",
        "      l1.extend(extract_zcr(aud,sr).tolist())                   \n",
        "      features.append(l1)\n",
        "      \n",
        "      labels.append(g)\n",
        "  count+=1\n"
      ],
      "execution_count": null,
      "outputs": []
    },
    {
      "cell_type": "code",
      "metadata": {
        "id": "gux7wRSYMQHu"
      },
      "source": [
        "#features = np.array(features)\n",
        "labels = np.array(labels)"
      ],
      "execution_count": null,
      "outputs": []
    },
    {
      "cell_type": "code",
      "metadata": {
        "id": "ONsZXBu8MS2Z"
      },
      "source": [
        "np.save('drive/My Drive/genre_features', x)\n",
        "np.save('drive/My Drive/genre_labels', y)"
      ],
      "execution_count": null,
      "outputs": []
    }
  ]
}